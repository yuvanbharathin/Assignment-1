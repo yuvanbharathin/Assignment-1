{
 "cells": [
  {
   "cell_type": "code",
   "execution_count": 10,
   "metadata": {},
   "outputs": [
    {
     "name": "stdout",
     "output_type": "stream",
     "text": [
      "The original string is : void\n",
      "The mirror string : voib\n"
     ]
    }
   ],
   "source": [
    "test_str = 'void'\n",
    " \n",
    "# printing original string\n",
    "print(\"The original string is : \" + str(test_str))\n",
    " \n",
    "# initializing mirror dictionary\n",
    "mir_dict = {'b':'d', 'd':'b', 'i':'i', 'o':'o', 'v':'v', 'w':'w', 'x':'x'}\n",
    "res = ''\n",
    " \n",
    "# accessing letters from dictionary\n",
    "for ele in test_str:\n",
    "    if ele in mir_dict:\n",
    "        res += mir_dict[ele]\n",
    "     \n",
    "  \n",
    "    else:\n",
    "        res = \"Not Possible\"\n",
    "        break\n",
    " \n",
    "# printing result \n",
    "print(\"The mirror string : \" + str(res)) "
   ]
  },
  {
   "cell_type": "code",
   "execution_count": 11,
   "metadata": {},
   "outputs": [
    {
     "name": "stdout",
     "output_type": "stream",
     "text": [
      "Hi, world! Hi, universe!\n"
     ]
    }
   ],
   "source": [
    "def replace_string(input_string, old_substring, new_substring):\n",
    "    # Split the input string by the old substring\n",
    "    parts = input_string.split(old_substring)\n",
    "    \n",
    "    # Join the parts with the new substring\n",
    "    replaced_string = new_substring.join(parts)\n",
    "    \n",
    "    return replaced_string\n",
    "\n",
    "# Example usage\n",
    "original_string = \"Hello, world! Hello, universe!\"\n",
    "old_substring = \"Hello\"\n",
    "new_substring = \"Hi\"\n",
    "\n",
    "result = replace_string(original_string, old_substring, new_substring)\n",
    "print(result)"
   ]
  }
 ],
 "metadata": {
  "kernelspec": {
   "display_name": "Python 3",
   "language": "python",
   "name": "python3"
  },
  "language_info": {
   "codemirror_mode": {
    "name": "ipython",
    "version": 3
   },
   "file_extension": ".py",
   "mimetype": "text/x-python",
   "name": "python",
   "nbconvert_exporter": "python",
   "pygments_lexer": "ipython3",
   "version": "3.12.0"
  }
 },
 "nbformat": 4,
 "nbformat_minor": 2
}
